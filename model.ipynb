{
 "cells": [
  {
   "cell_type": "code",
   "execution_count": 1,
   "metadata": {},
   "outputs": [],
   "source": [
    "# 在本次研究中, 我们关注的Contious Count Station 为:\n",
    "# [601, 626, 632, 635, 643, 645, 647, 648, 656, 658, 662, 671, 672, 675, 676] \n",
    "\n",
    "# 我们研究一天之内的数据, 所以在程序的开始加载当日的所有数据.\n",
    "Date = '2023-01-01'\n",
    "\n",
    "import pandas as pd\n",
    "\n",
    "# Continuous Count Station 代表了一个交通流的连续计数站\n",
    "# 它记录了PLane 方向的车道上的车辆的数量, 以及NLane方向的车道上的车辆的数量\n",
    "# 在我们的研究中, 我们只关注那些横跨不同Region 的 CCS\n"
   ]
  },
  {
   "cell_type": "code",
   "execution_count": 32,
   "metadata": {},
   "outputs": [
    {
     "name": "stdout",
     "output_type": "stream",
     "text": [
      "4.0\n"
     ]
    }
   ],
   "source": [
    "_data = pd.read_csv('data/2023-data/2023-Station-601.csv')\n",
    "# print(_data.head())\n",
    "\n",
    "Date = '2023-01-02'\n",
    "selected_data = _data[_data['DATE'] == Date]\n",
    "selected_data\n",
    "\n",
    "hour = 21\n",
    "\n",
    "selected_data = selected_data[selected_data['LANE'].str.startswith('P')]\n",
    "print(selected_data['H' + str(hour).zfill(2) + '00'].sum())\n",
    "# print(len(selected_data))"
   ]
  },
  {
   "cell_type": "code",
   "execution_count": 68,
   "metadata": {},
   "outputs": [],
   "source": [
    "class ContinuousCountStation:\n",
    "    # file_path: the path of the file that contains the traffic data\n",
    "    def __init__(self, idx, file_path, P_input_region, P_output_region) -> None:\n",
    "        self.idx = idx\n",
    "        self.file_path = file_path\n",
    "        self.P_input_region = P_input_region\n",
    "        self.P_output_region = P_output_region\n",
    "\n",
    "        # NLane is contrary to PLane\n",
    "        self.N_input_region = P_output_region\n",
    "        self.N_output_region = P_input_region\n",
    "        _data = pd.read_csv(self.file_path)\n",
    "        self.Tdata = _data[_data['DATE'] == Date]\n",
    "        if len(self.Tdata) == 0:\n",
    "            print(\"Error: the data for this date is not available\")\n",
    "\n",
    "    # get the data of the transition point\n",
    "    # 根据region, 判断经过这个收费站给这个region的车辆的变化量\n",
    "    def get_traffic_flow(self, hour, region_idx):\n",
    "        \"\"\"\n",
    "        date: the date of the data\n",
    "        hour: the hour of the data\n",
    "        region: \n",
    "        \"\"\"\n",
    "        if region_idx != self.P_input_region and region_idx != self.P_output_region:\n",
    "            print(f'Error: the region {region_idx} is not related to the CCS {self.idx}')\n",
    "            return 0\n",
    "        \n",
    "        # traffic flow 对于该region的变化量分为两方面\n",
    "        # 一方面是进入这个region的车辆的数量\n",
    "        # 另一方面是离开这个region的车辆的数量\n",
    "        \n",
    "        if region_idx == self.P_input_region:\n",
    "            _tmp_input_data = self.Tdata[self.Tdata['LANE'].str.startswith('P')]\n",
    "            traffic_amount = _tmp_input_data['H' + str(hour).zfill(2) + '00'].sum()\n",
    "            print(traffic_amount)\n",
    "            _tmp_output_data = self.Tdata[self.Tdata['LANE'].str.startswith('N')]\n",
    "            traffic_amount -= _tmp_output_data['H' + str(hour).zfill(2) + '00'].sum()\n",
    "            print(traffic_amount)\n",
    "        else:\n",
    "            _tmp_input_data = self.Tdata[self.Tdata['LANE'].str.startswith('N')]\n",
    "            traffic_amount = _tmp_input_data['H' + str(hour).zfill(2) + '00'].sum()\n",
    "            print(traffic_amount)\n",
    "            _tmp_output_data = self.Tdata[self.Tdata['LANE'].str.startswith('P')]\n",
    "            traffic_amount -= _tmp_output_data['H' + str(hour).zfill(2) + '00'].sum()\n",
    "            print(traffic_amount)\n",
    "        return traffic_amount"
   ]
  },
  {
   "cell_type": "code",
   "execution_count": 70,
   "metadata": {},
   "outputs": [
    {
     "name": "stdout",
     "output_type": "stream",
     "text": [
      "44.0\n",
      "-72.0\n"
     ]
    },
    {
     "data": {
      "text/plain": [
       "-72.0"
      ]
     },
     "execution_count": 70,
     "metadata": {},
     "output_type": "execute_result"
    }
   ],
   "source": [
    "Date = '2023-01-03'\n",
    "\n",
    "CCS1 = ContinuousCountStation(626, 'data/2023-data/2023-Station-626.csv', \n",
    "                              P_input_region=1, \n",
    "                              P_output_region=2)\n",
    "CCS1.get_traffic_flow(hour = 0, region_idx=1)"
   ]
  }
 ],
 "metadata": {
  "kernelspec": {
   "display_name": "AIcoding",
   "language": "python",
   "name": "python3"
  },
  "language_info": {
   "codemirror_mode": {
    "name": "ipython",
    "version": 3
   },
   "file_extension": ".py",
   "mimetype": "text/x-python",
   "name": "python",
   "nbconvert_exporter": "python",
   "pygments_lexer": "ipython3",
   "version": "3.11.5"
  }
 },
 "nbformat": 4,
 "nbformat_minor": 2
}
