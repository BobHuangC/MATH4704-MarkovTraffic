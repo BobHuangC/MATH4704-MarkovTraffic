{
 "cells": [
  {
   "cell_type": "code",
   "execution_count": 7,
   "metadata": {},
   "outputs": [],
   "source": [
    "# 我们研究一天之内的数据, 所以在程序的开始加载当日的所有数据.\n",
    "Date = '2023-01-04'"
   ]
  },
  {
   "cell_type": "code",
   "execution_count": 8,
   "metadata": {},
   "outputs": [],
   "source": [
    "# 在本次研究中, 我们关注的Contious Count Station 为:\n",
    "# [601, 626, 632, 635, 643, 645, 647, 648, 656, 658, 662, 671, 672, 675, 676] \n",
    "\n",
    "Utah_Vehicles_Person = 0.850 # vehicles per person in Utah\n",
    "Region_1_population = 19902# Highland population\n",
    "Region_2_population = 0.5 * 84373 # half of population of Lehi 2022\n",
    "Region_3_population = 0.5 * 84373 # the other half of population of Lehi 2022\n",
    "Region_4_population = 37268 + 37630 # the population of American Fork and Pleasant Grove 2022\n",
    "Region_5_population = 17865 # Heber City which is far from Highland\n",
    "Region_6_population = 19080+59179+50731 # Bluffdale + Herriman + Draper population\n",
    "Region_7_population = 54149  # Eagle Mountain population\n",
    "region_8_population = 11704 + 95910 + 14535 # Lindon + Orem + Vineyard population\n",
    "\n",
    "## suppose the total number of cars in the city\n",
    "region_1_initial_traffic_amount = int(Region_1_population * Utah_Vehicles_Person)\n",
    "region_2_initial_traffic_amount = int(Region_2_population * Utah_Vehicles_Person)\n",
    "region_3_initial_traffic_amount = int(Region_3_population * Utah_Vehicles_Person)\n",
    "region_4_initial_traffic_amount = int(Region_4_population * Utah_Vehicles_Person)\n",
    "region_5_initial_traffic_amount = int(Region_5_population * Utah_Vehicles_Person)\n",
    "region_6_initial_traffic_amount = int(Region_6_population * Utah_Vehicles_Person)\n",
    "region_7_initial_traffic_amount = int(Region_7_population * Utah_Vehicles_Person)\n",
    "region_8_initial_traffic_amount = int(region_8_population * Utah_Vehicles_Person)"
   ]
  },
  {
   "cell_type": "code",
   "execution_count": 9,
   "metadata": {},
   "outputs": [
    {
     "name": "stdout",
     "output_type": "stream",
     "text": [
      "CCS idx:  645\n",
      "Warning: the data for this date is not available\n",
      "CCS idx:  656\n",
      "Warning: the data for this date is not available\n"
     ]
    }
   ],
   "source": [
    "import model\n",
    "\n",
    "_initial_traffic_amouts_list = [region_1_initial_traffic_amount, region_2_initial_traffic_amount, \n",
    "                                region_3_initial_traffic_amount, region_4_initial_traffic_amount, \n",
    "                                region_5_initial_traffic_amount, region_6_initial_traffic_amount, \n",
    "                                region_7_initial_traffic_amount, region_8_initial_traffic_amount]\n",
    "\n",
    "# initialization of CCSs\n",
    "CCS_601, CCS_626, CCS_632, CCS_635, CCS_643,\\\n",
    "CCS_645, CCS_647, CCS_648, CCS_656, CCS_658,\\\n",
    "CCS_662, CCS_671, CCS_672, CCS_675, CCS_676,\\\n",
    "Region_1, Region_2, Region_3, Region_4,\\\n",
    "Region_5, Region_6, Region_7, Region_8 = \\\n",
    "model.initialize_CSSs_and_Regions(date=Date, \n",
    "                                  initials_traffic_amount_list=_initial_traffic_amouts_list)"
   ]
  },
  {
   "cell_type": "code",
   "execution_count": 10,
   "metadata": {},
   "outputs": [],
   "source": [
    "Region_1.updateTrafficNumber()\n",
    "Region_2.updateTrafficNumber()\n",
    "Region_3.updateTrafficNumber()\n",
    "Region_4.updateTrafficNumber()\n",
    "Region_5.updateTrafficNumber()\n",
    "Region_6.updateTrafficNumber()\n",
    "Region_7.updateTrafficNumber()\n",
    "Region_8.updateTrafficNumber()"
   ]
  },
  {
   "cell_type": "code",
   "execution_count": 11,
   "metadata": {},
   "outputs": [],
   "source": [
    "# print(Region_1.traffic_amount)\n",
    "# print(Region_2.traffic_amount)\n",
    "# print(Region_3.traffic_amount)\n",
    "# print(Region_4.traffic_amount)\n",
    "# print(Region_5.traffic_amount)\n",
    "# print(Region_6.traffic_amount)\n",
    "# print(Region_7.traffic_amount)\n",
    "# print(Region_8.traffic_amount)"
   ]
  },
  {
   "cell_type": "code",
   "execution_count": 12,
   "metadata": {},
   "outputs": [
    {
     "name": "stdout",
     "output_type": "stream",
     "text": [
      "16108.0\n",
      "44623.0\n",
      "33656.0\n",
      "61377.0\n",
      "15184.0\n",
      "110833.0\n",
      "47354.0\n",
      "97838.0\n"
     ]
    }
   ],
   "source": [
    "print(Region_1.traffic_amount[-1])\n",
    "print(Region_2.traffic_amount[-1])\n",
    "print(Region_3.traffic_amount[-1])\n",
    "print(Region_4.traffic_amount[-1])\n",
    "print(Region_5.traffic_amount[-1])\n",
    "print(Region_6.traffic_amount[-1])\n",
    "print(Region_7.traffic_amount[-1])\n",
    "print(Region_8.traffic_amount[-1])"
   ]
  }
 ],
 "metadata": {
  "kernelspec": {
   "display_name": "AIcoding",
   "language": "python",
   "name": "python3"
  },
  "language_info": {
   "codemirror_mode": {
    "name": "ipython",
    "version": 3
   },
   "file_extension": ".py",
   "mimetype": "text/x-python",
   "name": "python",
   "nbconvert_exporter": "python",
   "pygments_lexer": "ipython3",
   "version": "3.11.5"
  }
 },
 "nbformat": 4,
 "nbformat_minor": 2
}
