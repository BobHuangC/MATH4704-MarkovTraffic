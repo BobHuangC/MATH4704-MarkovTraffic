{
 "cells": [
  {
   "cell_type": "code",
   "execution_count": 33,
   "metadata": {},
   "outputs": [],
   "source": [
    "# 我们研究一天之内的数据, 所以在程序的开始加载当日的所有数据.\n",
    "Date = '2023-01-04'"
   ]
  },
  {
   "cell_type": "code",
   "execution_count": 34,
   "metadata": {},
   "outputs": [],
   "source": [
    "# 在本次研究中, 我们关注的Contious Count Station 为:\n",
    "# [601, 626, 632, 635, 643, 645, 647, 648, 656, 658, 662, 671, 672, 675, 676] \n",
    "\n",
    "Utah_Vehicles_Person = 0.850 # vehicles per person in Utah\n",
    "Region_1_population = 19902# Highland population\n",
    "Region_2_population = 0.5 * 84373 # half of population of Lehi 2022\n",
    "Region_3_population = 0.5 * 84373 # the other half of population of Lehi 2022\n",
    "Region_4_population = 37268 + 37630 # the population of American Fork and Pleasant Grove 2022\n",
    "Region_5_population = 17865 # Heber City which is far from Highland\n",
    "Region_6_population = 19080+59179+50731 # Bluffdale + Herriman + Draper population\n",
    "Region_7_population = 54149  # Eagle Mountain population\n",
    "region_8_population = 11704 + 95910 + 14535 # Lindon + Orem + Vineyard population\n",
    "\n",
    "## suppose the total number of cars in the city\n",
    "region_1_initial_traffic_amount = int(Region_1_population * Utah_Vehicles_Person)\n",
    "region_2_initial_traffic_amount = int(Region_2_population * Utah_Vehicles_Person)\n",
    "region_3_initial_traffic_amount = int(Region_3_population * Utah_Vehicles_Person)\n",
    "region_4_initial_traffic_amount = int(Region_4_population * Utah_Vehicles_Person)\n",
    "region_5_initial_traffic_amount = int(Region_5_population * Utah_Vehicles_Person)\n",
    "region_6_initial_traffic_amount = int(Region_6_population * Utah_Vehicles_Person)\n",
    "region_7_initial_traffic_amount = int(Region_7_population * Utah_Vehicles_Person)\n",
    "region_8_initial_traffic_amount = int(region_8_population * Utah_Vehicles_Person)"
   ]
  },
  {
   "cell_type": "code",
   "execution_count": 35,
   "metadata": {},
   "outputs": [
    {
     "name": "stdout",
     "output_type": "stream",
     "text": [
      "CCS idx:  645\n",
      "Warning: the data for this date is not available\n",
      "CCS idx:  656\n",
      "Warning: the data for this date is not available\n",
      "The initial traffic amount of Region  1  is  16916\n",
      "The initial traffic amount of Region  2  is  35858\n",
      "The initial traffic amount of Region  3  is  35858\n",
      "The initial traffic amount of Region  4  is  63663\n",
      "The initial traffic amount of Region  5  is  15185\n",
      "The initial traffic amount of Region  6  is  109641\n",
      "The initial traffic amount of Region  7  is  46026\n",
      "The initial traffic amount of Region  8  is  103826\n"
     ]
    }
   ],
   "source": [
    "import model\n",
    "import numpy as np\n",
    "\n",
    "_initial_traffic_amouts_list = [region_1_initial_traffic_amount, region_2_initial_traffic_amount, \n",
    "                                region_3_initial_traffic_amount, region_4_initial_traffic_amount, \n",
    "                                region_5_initial_traffic_amount, region_6_initial_traffic_amount, \n",
    "                                region_7_initial_traffic_amount, region_8_initial_traffic_amount]\n",
    "\n",
    "# initialization of CCSs\n",
    "CCS_601, CCS_626, CCS_632, CCS_635, CCS_643,\\\n",
    "CCS_645, CCS_647, CCS_648, CCS_656, CCS_658,\\\n",
    "CCS_662, CCS_671, CCS_672, CCS_675, CCS_676,\\\n",
    "Region_1, Region_2, Region_3, Region_4,\\\n",
    "Region_5, Region_6, Region_7, Region_8 = \\\n",
    "model.initialize_CSSs_and_Regions(date=Date, \n",
    "                                  initials_traffic_amount_list=_initial_traffic_amouts_list)"
   ]
  },
  {
   "cell_type": "code",
   "execution_count": 36,
   "metadata": {},
   "outputs": [],
   "source": [
    "Region_1.updateTrafficNumber()\n",
    "Region_2.updateTrafficNumber()\n",
    "Region_3.updateTrafficNumber()\n",
    "Region_4.updateTrafficNumber()\n",
    "Region_5.updateTrafficNumber()\n",
    "Region_6.updateTrafficNumber()\n",
    "Region_7.updateTrafficNumber()\n",
    "Region_8.updateTrafficNumber()"
   ]
  },
  {
   "cell_type": "code",
   "execution_count": 37,
   "metadata": {},
   "outputs": [],
   "source": [
    "# print(Region_1.traffic_amount)\n",
    "# print(Region_2.traffic_amount)\n",
    "# print(Region_3.traffic_amount)\n",
    "# print(Region_4.traffic_amount)\n",
    "# print(Region_5.traffic_amount)\n",
    "# print(Region_6.traffic_amount)\n",
    "# print(Region_7.traffic_amount)\n",
    "# print(Region_8.traffic_amount)"
   ]
  },
  {
   "cell_type": "code",
   "execution_count": 38,
   "metadata": {},
   "outputs": [
    {
     "name": "stdout",
     "output_type": "stream",
     "text": [
      "Testing\n",
      "The number of cars in each region at the end of the day:\n",
      "16108.0 in Region 1\n",
      "44623.0 in Region 2\n",
      "33656.0 in Region 3\n",
      "61377.0 in Region 4\n",
      "15184.0 in Region 5\n",
      "110833.0 in Region 6\n",
      "47354.0 in Region 7\n",
      "97838.0 in Region 8\n"
     ]
    }
   ],
   "source": [
    "print(\"Testing\")\n",
    "print(\"The number of cars in each region at the end of the day:\")\n",
    "print(Region_1.traffic_amount[-1], \"in Region 1\")\n",
    "print(Region_2.traffic_amount[-1], \"in Region 2\")\n",
    "print(Region_3.traffic_amount[-1], \"in Region 3\")\n",
    "print(Region_4.traffic_amount[-1], \"in Region 4\")\n",
    "print(Region_5.traffic_amount[-1], \"in Region 5\")\n",
    "print(Region_6.traffic_amount[-1], \"in Region 6\")\n",
    "print(Region_7.traffic_amount[-1], \"in Region 7\")\n",
    "print(Region_8.traffic_amount[-1], \"in Region 8\")"
   ]
  },
  {
   "cell_type": "code",
   "execution_count": 39,
   "metadata": {},
   "outputs": [
    {
     "name": "stdout",
     "output_type": "stream",
     "text": [
      "Experiment 0\n",
      "The construction of Markov Chain and the calculation of k-step transition probability matrix\n",
      "--------------------------------------------------\n",
      "[[9.97694490e-01 1.83258454e-03 0.00000000e+00 0.00000000e+00\n",
      "  4.72925041e-04 0.00000000e+00 0.00000000e+00 0.00000000e+00]\n",
      " [1.39438898e-03 9.32149032e-01 9.48184506e-04 2.94216075e-02\n",
      "  0.00000000e+00 3.60867868e-02 0.00000000e+00 0.00000000e+00]\n",
      " [0.00000000e+00 2.09158347e-03 9.87589938e-01 4.23894250e-03\n",
      "  0.00000000e+00 0.00000000e+00 6.07953595e-03 0.00000000e+00]\n",
      " [0.00000000e+00 1.76711748e-02 4.06829713e-03 9.59662598e-01\n",
      "  0.00000000e+00 0.00000000e+00 0.00000000e+00 1.85979297e-02]\n",
      " [6.58544616e-04 0.00000000e+00 0.00000000e+00 0.00000000e+00\n",
      "  9.99341455e-01 0.00000000e+00 0.00000000e+00 0.00000000e+00]\n",
      " [0.00000000e+00 1.01148293e-02 0.00000000e+00 0.00000000e+00\n",
      "  0.00000000e+00 9.89885171e-01 0.00000000e+00 0.00000000e+00]\n",
      " [0.00000000e+00 0.00000000e+00 1.82505540e-03 0.00000000e+00\n",
      "  0.00000000e+00 0.00000000e+00 9.98174945e-01 0.00000000e+00]\n",
      " [0.00000000e+00 0.00000000e+00 0.00000000e+00 1.30892069e-02\n",
      "  0.00000000e+00 0.00000000e+00 0.00000000e+00 9.86910793e-01]]\n",
      "[[9.97697511e-01 1.79558743e-03 5.29550796e-07 1.55460984e-05\n",
      "  4.71988749e-04 1.88368783e-05 0.00000000e+00 0.00000000e+00]\n",
      " [1.37402379e-03 9.33504620e-01 9.49381348e-04 2.86531390e-02\n",
      "  2.79816002e-07 3.53918203e-02 1.07780367e-06 1.25657682e-04]\n",
      " [6.82725367e-07 2.06720491e-03 9.87612789e-01 4.20980537e-03\n",
      "  0.00000000e+00 2.12498270e-05 6.06914591e-03 1.91218211e-05]\n",
      " [4.92914313e-06 1.72207846e-02 4.03262245e-03 9.60215514e-01\n",
      "  0.00000000e+00 1.53419580e-04 5.64574907e-06 1.83670845e-02]\n",
      " [6.58076842e-04 2.79851339e-07 0.00000000e+00 0.00000000e+00\n",
      "  9.99341643e-01 0.00000000e+00 0.00000000e+00 0.00000000e+00]\n",
      " [2.82150763e-06 9.92185362e-03 2.46881918e-06 7.24774773e-05\n",
      "  0.00000000e+00 9.90000379e-01 0.00000000e+00 0.00000000e+00]\n",
      " [0.00000000e+00 7.18001598e-07 1.81816672e-03 1.93860431e-06\n",
      "  0.00000000e+00 0.00000000e+00 9.98179177e-01 0.00000000e+00]\n",
      " [0.00000000e+00 5.32350729e-05 9.25276267e-06 1.29340151e-02\n",
      "  0.00000000e+00 0.00000000e+00 0.00000000e+00 9.87003497e-01]]\n"
     ]
    }
   ],
   "source": [
    "# 实验0 马尔科夫链的构造与 k 步转移概率矩阵的计算\n",
    "exp0_hour1 = 0\n",
    "exp0_hour2 = 1\n",
    "exp0_hour3 = 2\n",
    "\n",
    "print(\"Experiment 0\")\n",
    "print('The construction of Markov Chain and the calculation of k-step transition probability matrix')\n",
    "print('--------------------------------------------------')\n",
    "# print(Region_1.getTransition2Regions(begin_hour=exp0_hour1, end_hour=exp0_hour3))\n",
    "\n",
    "def get_k_step_transition_matrix(begin_hour, end_hour):\n",
    "\ttransition_matrix = np.zeros((8, 8))\n",
    "\ttransition_matrix[0] = Region_1.getTransition2Regions(begin_hour, end_hour)\n",
    "\ttransition_matrix[1] = Region_2.getTransition2Regions(begin_hour, end_hour)\n",
    "\ttransition_matrix[2] = Region_3.getTransition2Regions(begin_hour, end_hour)\n",
    "\ttransition_matrix[3] = Region_4.getTransition2Regions(begin_hour, end_hour)\n",
    "\ttransition_matrix[4] = Region_5.getTransition2Regions(begin_hour, end_hour)\n",
    "\ttransition_matrix[5] = Region_6.getTransition2Regions(begin_hour, end_hour)\n",
    "\ttransition_matrix[6] = Region_7.getTransition2Regions(begin_hour, end_hour)\n",
    "\ttransition_matrix[7] = Region_8.getTransition2Regions(begin_hour, end_hour)\n",
    "\treturn transition_matrix\n",
    "\n",
    "\n",
    "hour0_step1_transition_matrix = get_k_step_transition_matrix(exp0_hour1, exp0_hour2)\n",
    "hour1_step1_transition_matrix = get_k_step_transition_matrix(exp0_hour2, exp0_hour3)\n",
    "hour0_step2_transition_matrix = get_k_step_transition_matrix(exp0_hour1, exp0_hour3)\n",
    "\n",
    "print(hour0_step2_transition_matrix)\n",
    "# print(hour0_step1_transition_matrix.dot(hour1_step1_transition_matrix))"
   ]
  },
  {
   "cell_type": "code",
   "execution_count": 40,
   "metadata": {},
   "outputs": [
    {
     "name": "stdout",
     "output_type": "stream",
     "text": [
      "False\n"
     ]
    }
   ],
   "source": [
    "# 实验1: 查普曼-柯尔莫哥洛夫方程验证\n",
    "# use the discrete time Markov chain model to analize the traffic flow\n",
    "\n",
    "print(np.allclose(hour0_step2_transition_matrix, hour0_step1_transition_matrix.dot(hour1_step1_transition_matrix), atol=1e-3))"
   ]
  },
  {
   "cell_type": "code",
   "execution_count": 41,
   "metadata": {},
   "outputs": [],
   "source": [
    "# 实验2: 时齐离散马尔科夫链的构造与极限分布与平稳分布的计算"
   ]
  },
  {
   "cell_type": "code",
   "execution_count": 42,
   "metadata": {},
   "outputs": [],
   "source": [
    "# 实验3: 非时齐离散马尔科夫链的构造, 尝试用一些简单的方法构造非时齐马尔科夫链"
   ]
  },
  {
   "cell_type": "code",
   "execution_count": 43,
   "metadata": {},
   "outputs": [],
   "source": [
    "# 实验4: 时齐连续马尔科夫链的构造与Q矩阵的计算与极限分布与平稳分布的计算, "
   ]
  },
  {
   "cell_type": "code",
   "execution_count": 44,
   "metadata": {},
   "outputs": [],
   "source": [
    "# 实验5: 非时齐连续马尔科夫链的构造, 尝试用一些简单的方法构造非时齐马尔科夫链"
   ]
  }
 ],
 "metadata": {
  "kernelspec": {
   "display_name": "AIcoding",
   "language": "python",
   "name": "python3"
  },
  "language_info": {
   "codemirror_mode": {
    "name": "ipython",
    "version": 3
   },
   "file_extension": ".py",
   "mimetype": "text/x-python",
   "name": "python",
   "nbconvert_exporter": "python",
   "pygments_lexer": "ipython3",
   "version": "3.11.5"
  }
 },
 "nbformat": 4,
 "nbformat_minor": 2
}
