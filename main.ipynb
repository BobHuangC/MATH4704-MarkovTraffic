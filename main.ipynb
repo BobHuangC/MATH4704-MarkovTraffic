{
 "cells": [
  {
   "cell_type": "code",
   "execution_count": 1,
   "metadata": {},
   "outputs": [],
   "source": [
    "# 我们研究一天之内的数据, 所以在程序的开始加载当日的所有数据.\n",
    "Date = '2023-01-04'"
   ]
  },
  {
   "cell_type": "code",
   "execution_count": 2,
   "metadata": {},
   "outputs": [],
   "source": [
    "# 在本次研究中, 我们关注的Contious Count Station 为:\n",
    "# [601, 626, 632, 635, 643, 645, 647, 648, 656, 658, 662, 671, 672, 675, 676] \n",
    "\n",
    "Utah_Vehicles_Person = 0.850 # vehicles per person in Utah\n",
    "Region_1_population = 19902# Highland population\n",
    "Region_2_population = 0.5 * 84373 # half of population of Lehi 2022\n",
    "Region_3_population = 0.5 * 84373 # the other half of population of Lehi 2022\n",
    "Region_4_population = 37268 + 37630 # the population of American Fork and Pleasant Grove 2022\n",
    "Region_5_population = 17865 # Heber City which is far from Highland\n",
    "Region_6_population = 19080+59179+50731 # Bluffdale + Herriman + Draper population\n",
    "Region_7_population = 54149  # Eagle Mountain population\n",
    "region_8_population = 11704 + 95910 + 14535 # Lindon + Orem + Vineyard population\n",
    "\n",
    "## suppose the total number of cars in the city\n",
    "region_1_initial_traffic_amount = int(Region_1_population * Utah_Vehicles_Person)\n",
    "region_2_initial_traffic_amount = int(Region_2_population * Utah_Vehicles_Person)\n",
    "region_3_initial_traffic_amount = int(Region_3_population * Utah_Vehicles_Person)\n",
    "region_4_initial_traffic_amount = int(Region_4_population * Utah_Vehicles_Person)\n",
    "region_5_initial_traffic_amount = int(Region_5_population * Utah_Vehicles_Person)\n",
    "region_6_initial_traffic_amount = int(Region_6_population * Utah_Vehicles_Person)\n",
    "region_7_initial_traffic_amount = int(Region_7_population * Utah_Vehicles_Person)\n",
    "region_8_initial_traffic_amount = int(region_8_population * Utah_Vehicles_Person)"
   ]
  },
  {
   "cell_type": "code",
   "execution_count": 3,
   "metadata": {},
   "outputs": [
    {
     "name": "stdout",
     "output_type": "stream",
     "text": [
      "CCS idx:  645\n",
      "Warning: the data for this date is not available\n",
      "CCS idx:  656\n",
      "Warning: the data for this date is not available\n",
      "The initial traffic amount of Region  1  is  16916\n",
      "The initial traffic amount of Region  2  is  35858\n",
      "The initial traffic amount of Region  3  is  35858\n",
      "The initial traffic amount of Region  4  is  63663\n",
      "The initial traffic amount of Region  5  is  15185\n",
      "The initial traffic amount of Region  6  is  109641\n",
      "The initial traffic amount of Region  7  is  46026\n",
      "The initial traffic amount of Region  8  is  103826\n"
     ]
    }
   ],
   "source": [
    "import model\n",
    "import numpy as np\n",
    "\n",
    "_initial_traffic_amouts_list = [region_1_initial_traffic_amount, region_2_initial_traffic_amount, \n",
    "                                region_3_initial_traffic_amount, region_4_initial_traffic_amount, \n",
    "                                region_5_initial_traffic_amount, region_6_initial_traffic_amount, \n",
    "                                region_7_initial_traffic_amount, region_8_initial_traffic_amount]\n",
    "\n",
    "# initialization of CCSs\n",
    "CCS_601, CCS_626, CCS_632, CCS_635, CCS_643,\\\n",
    "CCS_645, CCS_647, CCS_648, CCS_656, CCS_658,\\\n",
    "CCS_662, CCS_671, CCS_672, CCS_675, CCS_676,\\\n",
    "Region_1, Region_2, Region_3, Region_4,\\\n",
    "Region_5, Region_6, Region_7, Region_8 = \\\n",
    "model.initialize_CSSs_and_Regions(date=Date, \n",
    "                                  initials_traffic_amount_list=_initial_traffic_amouts_list)"
   ]
  },
  {
   "cell_type": "code",
   "execution_count": 4,
   "metadata": {},
   "outputs": [],
   "source": [
    "Region_1.updateTrafficNumber()\n",
    "Region_2.updateTrafficNumber()\n",
    "Region_3.updateTrafficNumber()\n",
    "Region_4.updateTrafficNumber()\n",
    "Region_5.updateTrafficNumber()\n",
    "Region_6.updateTrafficNumber()\n",
    "Region_7.updateTrafficNumber()\n",
    "Region_8.updateTrafficNumber()"
   ]
  },
  {
   "cell_type": "code",
   "execution_count": 5,
   "metadata": {},
   "outputs": [],
   "source": [
    "# print(Region_1.traffic_amount)\n",
    "# print(Region_2.traffic_amount)\n",
    "# print(Region_3.traffic_amount)\n",
    "# print(Region_4.traffic_amount)\n",
    "# print(Region_5.traffic_amount)\n",
    "# print(Region_6.traffic_amount)\n",
    "# print(Region_7.traffic_amount)\n",
    "# print(Region_8.traffic_amount)"
   ]
  },
  {
   "cell_type": "code",
   "execution_count": 6,
   "metadata": {},
   "outputs": [
    {
     "name": "stdout",
     "output_type": "stream",
     "text": [
      "Testing\n",
      "The number of cars in each region at the end of the day:\n",
      "16108.0 in Region 1\n",
      "44623.0 in Region 2\n",
      "33656.0 in Region 3\n",
      "61377.0 in Region 4\n",
      "15184.0 in Region 5\n",
      "110833.0 in Region 6\n",
      "47354.0 in Region 7\n",
      "97838.0 in Region 8\n"
     ]
    }
   ],
   "source": [
    "print(\"Testing\")\n",
    "print(\"The number of cars in each region at the end of the day:\")\n",
    "print(Region_1.traffic_amount[-1], \"in Region 1\")\n",
    "print(Region_2.traffic_amount[-1], \"in Region 2\")\n",
    "print(Region_3.traffic_amount[-1], \"in Region 3\")\n",
    "print(Region_4.traffic_amount[-1], \"in Region 4\")\n",
    "print(Region_5.traffic_amount[-1], \"in Region 5\")\n",
    "print(Region_6.traffic_amount[-1], \"in Region 6\")\n",
    "print(Region_7.traffic_amount[-1], \"in Region 7\")\n",
    "print(Region_8.traffic_amount[-1], \"in Region 8\")"
   ]
  },
  {
   "cell_type": "code",
   "execution_count": 7,
   "metadata": {},
   "outputs": [
    {
     "name": "stdout",
     "output_type": "stream",
     "text": [
      "Experiment 0\n",
      "The construction of Markov Chain and the calculation of k-step transition probability matrix\n",
      "--------------------------------------------------\n",
      "[[9.97694490e-01 1.83258454e-03 0.00000000e+00 0.00000000e+00\n",
      "  4.72925041e-04 0.00000000e+00 0.00000000e+00 0.00000000e+00]\n",
      " [1.39438898e-03 9.32149032e-01 9.48184506e-04 2.94216075e-02\n",
      "  0.00000000e+00 3.60867868e-02 0.00000000e+00 0.00000000e+00]\n",
      " [0.00000000e+00 2.09158347e-03 9.87589938e-01 4.23894250e-03\n",
      "  0.00000000e+00 0.00000000e+00 6.07953595e-03 0.00000000e+00]\n",
      " [0.00000000e+00 1.76711748e-02 4.06829713e-03 9.59662598e-01\n",
      "  0.00000000e+00 0.00000000e+00 0.00000000e+00 1.85979297e-02]\n",
      " [6.58544616e-04 0.00000000e+00 0.00000000e+00 0.00000000e+00\n",
      "  9.99341455e-01 0.00000000e+00 0.00000000e+00 0.00000000e+00]\n",
      " [0.00000000e+00 1.01148293e-02 0.00000000e+00 0.00000000e+00\n",
      "  0.00000000e+00 9.89885171e-01 0.00000000e+00 0.00000000e+00]\n",
      " [0.00000000e+00 0.00000000e+00 1.82505540e-03 0.00000000e+00\n",
      "  0.00000000e+00 0.00000000e+00 9.98174945e-01 0.00000000e+00]\n",
      " [0.00000000e+00 0.00000000e+00 0.00000000e+00 1.30892069e-02\n",
      "  0.00000000e+00 0.00000000e+00 0.00000000e+00 9.86910793e-01]]\n"
     ]
    }
   ],
   "source": [
    "# TODO(BobHuangC) Check the correctness of the k-step transition probability matrix calculation\n",
    "# 实验0 马尔科夫链的构造与 k 步转移概率矩阵的计算\n",
    "exp0_hour1 = 0\n",
    "exp0_hour2 = 1\n",
    "exp0_hour3 = 2\n",
    "\n",
    "print(\"Experiment 0\")\n",
    "print('The construction of Markov Chain and the calculation of k-step transition probability matrix')\n",
    "print('--------------------------------------------------')\n",
    "# print(Region_1.getTransitionMatrix2Regions(begin_hour=exp0_hour1, end_hour=exp0_hour3))\n",
    "\n",
    "def get_k_step_transition_matrix(begin_hour, end_hour):\n",
    "\ttransition_matrix = np.zeros((8, 8))\n",
    "\ttransition_matrix[0] = Region_1.getTransitionMatrix2Regions(begin_hour, end_hour)\n",
    "\ttransition_matrix[1] = Region_2.getTransitionMatrix2Regions(begin_hour, end_hour)\n",
    "\ttransition_matrix[2] = Region_3.getTransitionMatrix2Regions(begin_hour, end_hour)\n",
    "\ttransition_matrix[3] = Region_4.getTransitionMatrix2Regions(begin_hour, end_hour)\n",
    "\ttransition_matrix[4] = Region_5.getTransitionMatrix2Regions(begin_hour, end_hour)\n",
    "\ttransition_matrix[5] = Region_6.getTransitionMatrix2Regions(begin_hour, end_hour)\n",
    "\ttransition_matrix[6] = Region_7.getTransitionMatrix2Regions(begin_hour, end_hour)\n",
    "\ttransition_matrix[7] = Region_8.getTransitionMatrix2Regions(begin_hour, end_hour)\n",
    "\treturn transition_matrix\n",
    "\n",
    "\n",
    "hour0_step1_transition_matrix = get_k_step_transition_matrix(exp0_hour1, exp0_hour2)\n",
    "hour1_step1_transition_matrix = get_k_step_transition_matrix(exp0_hour2, exp0_hour3)\n",
    "hour0_step2_transition_matrix = get_k_step_transition_matrix(exp0_hour1, exp0_hour3)\n",
    "\n",
    "print(hour0_step2_transition_matrix)\n",
    "# print(hour0_step1_transition_matrix.dot(hour1_step1_transition_matrix))"
   ]
  },
  {
   "cell_type": "code",
   "execution_count": 8,
   "metadata": {},
   "outputs": [
    {
     "name": "stdout",
     "output_type": "stream",
     "text": [
      "False\n"
     ]
    }
   ],
   "source": [
    "# 实验1: 查普曼-柯尔莫哥洛夫方程验证\n",
    "# use the discrete time Markov chain model to analize the traffic flow\n",
    "\n",
    "print(np.allclose(hour0_step2_transition_matrix, hour0_step1_transition_matrix.dot(hour1_step1_transition_matrix), atol=1e-3))"
   ]
  },
  {
   "cell_type": "code",
   "execution_count": 9,
   "metadata": {},
   "outputs": [
    {
     "name": "stdout",
     "output_type": "stream",
     "text": [
      "The limit distribution of the traffic flow:\n",
      "[0.04516965 0.09143446 0.08429492 0.16893886 0.05788467 0.25714408\n",
      " 0.08322014 0.21191323]\n",
      "[0.04516782 0.0913579  0.08421273 0.16878471 0.05870995 0.2569204\n",
      " 0.08313295 0.21171353]\n"
     ]
    }
   ],
   "source": [
    "# TODO(BobHuangC) to find a suitable hour then to calculate the transition matrix\n",
    "# 实验2: 时齐离散马尔科夫链的构造与极限分布与平稳分布的计算\n",
    "\n",
    "# Suppose the traffic flow is a time-homogeneous Markov chain\n",
    "# The transition matrix is the same for all hours\n",
    "\n",
    "for begin_hour in range(24):\n",
    "    _transition_matrix_P = get_k_step_transition_matrix(begin_hour, begin_hour+1)\n",
    "    # print(_transition_matrix_P)\n",
    "\n",
    "chosen_hour = 12\n",
    "transition_matrix_P = get_k_step_transition_matrix(chosen_hour, chosen_hour+1)\n",
    "# print(transition_matrix_P)\n",
    "\n",
    "\n",
    "# 根据transition matrix和初始分别计算极限分布\n",
    "def compute_limit_distribution(transition_matrix, initial_distribution, alltol = 1e-6):\n",
    "\tnext_distribution = np.dot(initial_distribution, transition_matrix)\n",
    "\twhile not np.allclose(initial_distribution, next_distribution, atol=alltol):\n",
    "\t\tinitial_distribution = next_distribution\n",
    "\t\tnext_distribution = np.dot(initial_distribution, transition_matrix)\n",
    "\t# 计算极限分布\n",
    "\t# limit_distribution = np.dot(initial_distribution, np.linalg.matrix_power(transition_matrix, 1000))\n",
    "\treturn next_distribution\n",
    "\n",
    "\n",
    "\n",
    "initial_distribution = np.array([region_1_initial_traffic_amount, region_2_initial_traffic_amount,\n",
    "\t\t\t\t\t\t\t\t  region_3_initial_traffic_amount, region_4_initial_traffic_amount,\n",
    "\t\t\t\t\t\t\t\t  region_5_initial_traffic_amount, region_6_initial_traffic_amount,\n",
    "\t\t\t\t\t\t\t\t  region_7_initial_traffic_amount, region_8_initial_traffic_amount])\n",
    "initial_distribution = initial_distribution / np.sum(initial_distribution)\n",
    "limit_distribution = compute_limit_distribution(transition_matrix_P, initial_distribution)\n",
    "print('The limit distribution of the traffic flow:')\n",
    "print(limit_distribution)\n",
    "\n",
    "\n",
    "\n",
    "# 根据transition matrix计算平稳分布\n",
    "def compute_stationary_distribution(transition_matrix):\n",
    "\teigenvalues, eigenvectors = np.linalg.eig(transition_matrix.T)\n",
    "\tstationary_index = np.where(np.isclose(eigenvalues, 1))[0][0]\n",
    "\tstationary_distribution = np.real(eigenvectors[:, stationary_index])\n",
    "\tstationary_distribution /= np.sum(stationary_distribution)\n",
    "\treturn stationary_distribution\n",
    "\n",
    "transition_matrix_P = np.array(transition_matrix_P)\n",
    "\n",
    "stationary_distribution = compute_stationary_distribution(transition_matrix_P)\n",
    "print(stationary_distribution)\n",
    "\n",
    "# transition_matrix_P = get_k_step_transition_matrix(begin_hour=12, end_hour=13)\n",
    "# print(transition_matrix_P)"
   ]
  },
  {
   "cell_type": "code",
   "execution_count": 20,
   "metadata": {},
   "outputs": [
    {
     "name": "stdout",
     "output_type": "stream",
     "text": [
      "The real transition number is \n",
      "[0, 591.0, 0, 0.0, 31.0, 0, 0, 0]\n",
      "The Non Time Alignment model transition number is \n",
      "[15399.69708534   731.66478038     0.             0.\n",
      "    18.63813428     0.             0.             0.        ]\n",
      "The Time Alignment model transition number is \n",
      "[1.58551201e+04 2.86643605e+02 0.00000000e+00 0.00000000e+00\n",
      " 8.23634080e+00 0.00000000e+00 0.00000000e+00 0.00000000e+00]\n"
     ]
    }
   ],
   "source": [
    "# 实验3: 非时齐离散马尔科夫链的构造, 尝试用一些简单的方法构造非时齐马尔科夫链\n",
    "\n",
    "# 上面的实验明显表示用时齐马尔科夫链来模拟交通流是不合适的, 因为交通流是非时齐的\n",
    "# 结合我们日常生活中的经验, 明显交通流是非时齐的, 甚至transition matrix会是相反的, 例如在早上, 人们主要从住宅区到工作区, 而在晚上, 人们主要从工作区到住宅区\n",
    "# 而且交通流有明显的昼夜因素的影响, \n",
    "# 以及交通流会明显地受到天气和节假日的影响\n",
    "# 因此我们尝试缩短时间范围, 在小范围内预测交通, 甚至我们在小范围内, 对非时齐的马尔科夫链进行建模\n",
    "\n",
    "\n",
    "# 6 - 9这个时间段.\n",
    "# 我们使用线性建模转移概率矩阵的方式来构造非时齐的马尔科夫链\n",
    "\n",
    "begin_hour = 6\n",
    "end_hour = 9\n",
    "# 我们结合6-7 的转移矩阵和 7-8 的转移矩阵来构造 8-9 的转移矩阵\n",
    "transition_matrix_6_7 = get_k_step_transition_matrix(begin_hour = 6, end_hour = 7)\n",
    "transition_matrix_7_8 = get_k_step_transition_matrix(begin_hour = 7, end_hour = 8)\n",
    "model_transition_matrix_8_9 = 2 * transition_matrix_7_8 - transition_matrix_6_7\n",
    "real_transition_matrix_8_9 = get_k_step_transition_matrix(begin_hour = 8, end_hour = 9)\n",
    "\n",
    "# print(transition_matrix_6_7)\n",
    "# print(transition_matrix_7_8)\n",
    "# print(model_transition_matrix_8_9)\n",
    "# print(real_transition_matrix_8_9)\n",
    "\n",
    "# TODO(BobHuangC) 预测具体的交通流量\n",
    "print('The real transition number is ')\n",
    "print(Region_1.getTransition2Region(begin_hour=8, end_hour=9))\n",
    "\n",
    "print('The Non Time Alignment model transition number is ')\n",
    "print(Region_1.getTrafficAmountByHour(hour=8) * model_transition_matrix_8_9[0])\n",
    "\n",
    "print('The Time Alignment model transition number is ')\n",
    "print(Region_1.getTrafficAmountByHour(hour=8) * (transition_matrix_6_7+transition_matrix_7_8)[0]/2)"
   ]
  },
  {
   "cell_type": "code",
   "execution_count": 11,
   "metadata": {},
   "outputs": [],
   "source": [
    "# 实验4: 时齐连续马尔科夫链的构造与Q矩阵的计算与极限分布与平稳分布的计算, \n"
   ]
  },
  {
   "cell_type": "code",
   "execution_count": 12,
   "metadata": {},
   "outputs": [],
   "source": [
    "# 实验5: 非时齐连续马尔科夫链的构造, 尝试用一些简单的方法构造非时齐马尔科夫链"
   ]
  }
 ],
 "metadata": {
  "kernelspec": {
   "display_name": "AIcoding",
   "language": "python",
   "name": "python3"
  },
  "language_info": {
   "codemirror_mode": {
    "name": "ipython",
    "version": 3
   },
   "file_extension": ".py",
   "mimetype": "text/x-python",
   "name": "python",
   "nbconvert_exporter": "python",
   "pygments_lexer": "ipython3",
   "version": "3.11.5"
  }
 },
 "nbformat": 4,
 "nbformat_minor": 2
}
