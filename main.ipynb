{
 "cells": [
  {
   "cell_type": "code",
   "execution_count": 1,
   "metadata": {},
   "outputs": [],
   "source": [
    "# 我们研究一天之内的数据, 所以在程序的开始加载当日的所有数据.\n",
    "Date = '2023-01-04'"
   ]
  },
  {
   "cell_type": "code",
   "execution_count": 2,
   "metadata": {},
   "outputs": [],
   "source": [
    "# 在本次研究中, 我们关注的Contious Count Station 为:\n",
    "# [601, 626, 632, 635, 643, 645, 647, 648, 656, 658, 662, 671, 672, 675, 676] \n",
    "\n",
    "Utah_Vehicles_Person = 0.850 # vehicles per person in Utah\n",
    "Region_1_population = 19902# Highland population\n",
    "Region_2_population = 0.5 * 84373 # half of population of Lehi 2022\n",
    "Region_3_population = 0.5 * 84373 # the other half of population of Lehi 2022\n",
    "Region_4_population = 37268 + 37630 # the population of American Fork and Pleasant Grove 2022\n",
    "Region_5_population = 17865 # Heber City which is far from Highland\n",
    "Region_6_population = 19080+59179+50731 # Bluffdale + Herriman + Draper population\n",
    "Region_7_population = 54149  # Eagle Mountain population\n",
    "region_8_population = 11704 + 95910 + 14535 # Lindon + Orem + Vineyard population\n",
    "\n",
    "## suppose the total number of cars in the city\n",
    "region_1_initial_traffic_amount = int(Region_1_population * Utah_Vehicles_Person)\n",
    "region_2_initial_traffic_amount = int(Region_2_population * Utah_Vehicles_Person)\n",
    "region_3_initial_traffic_amount = int(Region_3_population * Utah_Vehicles_Person)\n",
    "region_4_initial_traffic_amount = int(Region_4_population * Utah_Vehicles_Person)\n",
    "region_5_initial_traffic_amount = int(Region_5_population * Utah_Vehicles_Person)\n",
    "region_6_initial_traffic_amount = int(Region_6_population * Utah_Vehicles_Person)\n",
    "region_7_initial_traffic_amount = int(Region_7_population * Utah_Vehicles_Person)\n",
    "region_8_initial_traffic_amount = int(region_8_population * Utah_Vehicles_Person)"
   ]
  },
  {
   "cell_type": "code",
   "execution_count": 3,
   "metadata": {},
   "outputs": [
    {
     "name": "stdout",
     "output_type": "stream",
     "text": [
      "CCS idx:  645\n",
      "Warning: the data for this date is not available\n",
      "CCS idx:  656\n",
      "Warning: the data for this date is not available\n",
      "The initial traffic amount of Region  1  is  16916\n",
      "The initial traffic amount of Region  2  is  35858\n",
      "The initial traffic amount of Region  3  is  35858\n",
      "The initial traffic amount of Region  4  is  63663\n",
      "The initial traffic amount of Region  5  is  15185\n",
      "The initial traffic amount of Region  6  is  109641\n",
      "The initial traffic amount of Region  7  is  46026\n",
      "The initial traffic amount of Region  8  is  103826\n"
     ]
    }
   ],
   "source": [
    "import model\n",
    "import numpy as np\n",
    "\n",
    "_initial_traffic_amouts_list = [region_1_initial_traffic_amount, region_2_initial_traffic_amount, \n",
    "                                region_3_initial_traffic_amount, region_4_initial_traffic_amount, \n",
    "                                region_5_initial_traffic_amount, region_6_initial_traffic_amount, \n",
    "                                region_7_initial_traffic_amount, region_8_initial_traffic_amount]\n",
    "\n",
    "# initialization of CCSs\n",
    "CCS_601, CCS_626, CCS_632, CCS_635, CCS_643,\\\n",
    "CCS_645, CCS_647, CCS_648, CCS_656, CCS_658,\\\n",
    "CCS_662, CCS_671, CCS_672, CCS_675, CCS_676,\\\n",
    "Region_1, Region_2, Region_3, Region_4,\\\n",
    "Region_5, Region_6, Region_7, Region_8 = \\\n",
    "model.initialize_CSSs_and_Regions(date=Date, \n",
    "                                  initials_traffic_amount_list=_initial_traffic_amouts_list)"
   ]
  },
  {
   "cell_type": "code",
   "execution_count": 4,
   "metadata": {},
   "outputs": [],
   "source": [
    "Region_1.updateTrafficNumber()\n",
    "Region_2.updateTrafficNumber()\n",
    "Region_3.updateTrafficNumber()\n",
    "Region_4.updateTrafficNumber()\n",
    "Region_5.updateTrafficNumber()\n",
    "Region_6.updateTrafficNumber()\n",
    "Region_7.updateTrafficNumber()\n",
    "Region_8.updateTrafficNumber()"
   ]
  },
  {
   "cell_type": "code",
   "execution_count": 5,
   "metadata": {},
   "outputs": [],
   "source": [
    "# print(Region_1.traffic_amount)\n",
    "# print(Region_2.traffic_amount)\n",
    "# print(Region_3.traffic_amount)\n",
    "# print(Region_4.traffic_amount)\n",
    "# print(Region_5.traffic_amount)\n",
    "# print(Region_6.traffic_amount)\n",
    "# print(Region_7.traffic_amount)\n",
    "# print(Region_8.traffic_amount)"
   ]
  },
  {
   "cell_type": "code",
   "execution_count": 6,
   "metadata": {},
   "outputs": [
    {
     "name": "stdout",
     "output_type": "stream",
     "text": [
      "Testing\n",
      "The number of cars in each region at the end of the day:\n",
      "16108.0 in Region 1\n",
      "44623.0 in Region 2\n",
      "33656.0 in Region 3\n",
      "61377.0 in Region 4\n",
      "15184.0 in Region 5\n",
      "110833.0 in Region 6\n",
      "47354.0 in Region 7\n",
      "97838.0 in Region 8\n"
     ]
    }
   ],
   "source": [
    "print(\"Testing\")\n",
    "print(\"The number of cars in each region at the end of the day:\")\n",
    "print(Region_1.traffic_amount[-1], \"in Region 1\")\n",
    "print(Region_2.traffic_amount[-1], \"in Region 2\")\n",
    "print(Region_3.traffic_amount[-1], \"in Region 3\")\n",
    "print(Region_4.traffic_amount[-1], \"in Region 4\")\n",
    "print(Region_5.traffic_amount[-1], \"in Region 5\")\n",
    "print(Region_6.traffic_amount[-1], \"in Region 6\")\n",
    "print(Region_7.traffic_amount[-1], \"in Region 7\")\n",
    "print(Region_8.traffic_amount[-1], \"in Region 8\")"
   ]
  },
  {
   "cell_type": "code",
   "execution_count": 7,
   "metadata": {},
   "outputs": [
    {
     "name": "stdout",
     "output_type": "stream",
     "text": [
      "Experiment 0\n",
      "The construction of Markov Chain and the calculation of k-step transition probability matrix\n",
      "--------------------------------------------------\n",
      "[[9.97694490e-01 1.83258454e-03 0.00000000e+00 0.00000000e+00\n",
      "  4.72925041e-04 0.00000000e+00 0.00000000e+00 0.00000000e+00]\n",
      " [1.39438898e-03 9.32149032e-01 9.48184506e-04 2.94216075e-02\n",
      "  0.00000000e+00 3.60867868e-02 0.00000000e+00 0.00000000e+00]\n",
      " [0.00000000e+00 2.09158347e-03 9.87589938e-01 4.23894250e-03\n",
      "  0.00000000e+00 0.00000000e+00 6.07953595e-03 0.00000000e+00]\n",
      " [0.00000000e+00 1.76711748e-02 4.06829713e-03 9.59662598e-01\n",
      "  0.00000000e+00 0.00000000e+00 0.00000000e+00 1.85979297e-02]\n",
      " [6.58544616e-04 0.00000000e+00 0.00000000e+00 0.00000000e+00\n",
      "  9.99341455e-01 0.00000000e+00 0.00000000e+00 0.00000000e+00]\n",
      " [0.00000000e+00 1.01148293e-02 0.00000000e+00 0.00000000e+00\n",
      "  0.00000000e+00 9.89885171e-01 0.00000000e+00 0.00000000e+00]\n",
      " [0.00000000e+00 0.00000000e+00 1.82505540e-03 0.00000000e+00\n",
      "  0.00000000e+00 0.00000000e+00 9.98174945e-01 0.00000000e+00]\n",
      " [0.00000000e+00 0.00000000e+00 0.00000000e+00 1.30892069e-02\n",
      "  0.00000000e+00 0.00000000e+00 0.00000000e+00 9.86910793e-01]]\n"
     ]
    }
   ],
   "source": [
    "# TODO(BobHuangC) Check the correctness of the k-step transition probability matrix calculation\n",
    "# 实验0 马尔科夫链的构造与 k 步转移概率矩阵的计算\n",
    "exp0_hour1 = 0\n",
    "exp0_hour2 = 1\n",
    "exp0_hour3 = 2\n",
    "\n",
    "print(\"Experiment 0\")\n",
    "print('The construction of Markov Chain and the calculation of k-step transition probability matrix')\n",
    "print('--------------------------------------------------')\n",
    "# print(Region_1.getTransitionMatrix2Regions(begin_hour=exp0_hour1, end_hour=exp0_hour3))\n",
    "\n",
    "def get_k_step_transition_matrix(begin_hour, end_hour):\n",
    "\ttransition_matrix = np.zeros((8, 8))\n",
    "\ttransition_matrix[0] = Region_1.getTransitionMatrix2Regions(begin_hour, end_hour)\n",
    "\ttransition_matrix[1] = Region_2.getTransitionMatrix2Regions(begin_hour, end_hour)\n",
    "\ttransition_matrix[2] = Region_3.getTransitionMatrix2Regions(begin_hour, end_hour)\n",
    "\ttransition_matrix[3] = Region_4.getTransitionMatrix2Regions(begin_hour, end_hour)\n",
    "\ttransition_matrix[4] = Region_5.getTransitionMatrix2Regions(begin_hour, end_hour)\n",
    "\ttransition_matrix[5] = Region_6.getTransitionMatrix2Regions(begin_hour, end_hour)\n",
    "\ttransition_matrix[6] = Region_7.getTransitionMatrix2Regions(begin_hour, end_hour)\n",
    "\ttransition_matrix[7] = Region_8.getTransitionMatrix2Regions(begin_hour, end_hour)\n",
    "\treturn transition_matrix\n",
    "\n",
    "\n",
    "hour0_step1_transition_matrix = get_k_step_transition_matrix(exp0_hour1, exp0_hour2)\n",
    "hour1_step1_transition_matrix = get_k_step_transition_matrix(exp0_hour2, exp0_hour3)\n",
    "hour0_step2_transition_matrix = get_k_step_transition_matrix(exp0_hour1, exp0_hour3)\n",
    "\n",
    "print(hour0_step2_transition_matrix)\n",
    "# print(hour0_step1_transition_matrix.dot(hour1_step1_transition_matrix))"
   ]
  },
  {
   "cell_type": "code",
   "execution_count": 8,
   "metadata": {},
   "outputs": [
    {
     "name": "stdout",
     "output_type": "stream",
     "text": [
      "False\n"
     ]
    }
   ],
   "source": [
    "# 实验1: 查普曼-柯尔莫哥洛夫方程验证\n",
    "# use the discrete time Markov chain model to analize the traffic flow\n",
    "\n",
    "print(np.allclose(hour0_step2_transition_matrix, hour0_step1_transition_matrix.dot(hour1_step1_transition_matrix), atol=1e-3))"
   ]
  },
  {
   "cell_type": "code",
   "execution_count": 9,
   "metadata": {},
   "outputs": [
    {
     "name": "stdout",
     "output_type": "stream",
     "text": [
      "The limit distribution of the traffic flow:\n",
      "[0.04516965 0.09143446 0.08429492 0.16893886 0.05788467 0.25714408\n",
      " 0.08322014 0.21191323]\n",
      "[0.04516782 0.0913579  0.08421273 0.16878471 0.05870995 0.2569204\n",
      " 0.08313295 0.21171353]\n"
     ]
    }
   ],
   "source": [
    "# TODO(BobHuangC) to find a suitable hour then to calculate the transition matrix\n",
    "# 实验2: 时齐离散马尔科夫链的构造与极限分布与平稳分布的计算\n",
    "\n",
    "# Suppose the traffic flow is a time-homogeneous Markov chain\n",
    "# The transition matrix is the same for all hours\n",
    "\n",
    "for begin_hour in range(24):\n",
    "    _transition_matrix_P = get_k_step_transition_matrix(begin_hour, begin_hour+1)\n",
    "    # print(_transition_matrix_P)\n",
    "\n",
    "chosen_hour = 12\n",
    "transition_matrix_P = get_k_step_transition_matrix(chosen_hour, chosen_hour+1)\n",
    "# print(transition_matrix_P)\n",
    "\n",
    "\n",
    "# 根据transition matrix和初始分别计算极限分布\n",
    "def compute_limit_distribution(transition_matrix, initial_distribution, alltol = 1e-6):\n",
    "\tnext_distribution = np.dot(initial_distribution, transition_matrix)\n",
    "\twhile not np.allclose(initial_distribution, next_distribution, atol=alltol):\n",
    "\t\tinitial_distribution = next_distribution\n",
    "\t\tnext_distribution = np.dot(initial_distribution, transition_matrix)\n",
    "\t# 计算极限分布\n",
    "\t# limit_distribution = np.dot(initial_distribution, np.linalg.matrix_power(transition_matrix, 1000))\n",
    "\treturn next_distribution\n",
    "\n",
    "\n",
    "\n",
    "initial_distribution = np.array([region_1_initial_traffic_amount, region_2_initial_traffic_amount,\n",
    "\t\t\t\t\t\t\t\t  region_3_initial_traffic_amount, region_4_initial_traffic_amount,\n",
    "\t\t\t\t\t\t\t\t  region_5_initial_traffic_amount, region_6_initial_traffic_amount,\n",
    "\t\t\t\t\t\t\t\t  region_7_initial_traffic_amount, region_8_initial_traffic_amount])\n",
    "initial_distribution = initial_distribution / np.sum(initial_distribution)\n",
    "limit_distribution = compute_limit_distribution(transition_matrix_P, initial_distribution)\n",
    "print('The limit distribution of the traffic flow:')\n",
    "print(limit_distribution)\n",
    "\n",
    "\n",
    "\n",
    "# 根据transition matrix计算平稳分布\n",
    "def compute_stationary_distribution(transition_matrix):\n",
    "\teigenvalues, eigenvectors = np.linalg.eig(transition_matrix.T)\n",
    "\tstationary_index = np.where(np.isclose(eigenvalues, 1))[0][0]\n",
    "\tstationary_distribution = np.real(eigenvectors[:, stationary_index])\n",
    "\tstationary_distribution /= np.sum(stationary_distribution)\n",
    "\treturn stationary_distribution\n",
    "\n",
    "transition_matrix_P = np.array(transition_matrix_P)\n",
    "\n",
    "stationary_distribution = compute_stationary_distribution(transition_matrix_P)\n",
    "print(stationary_distribution)\n",
    "\n",
    "# transition_matrix_P = get_k_step_transition_matrix(begin_hour=12, end_hour=13)\n",
    "# print(transition_matrix_P)"
   ]
  },
  {
   "cell_type": "code",
   "execution_count": 20,
   "metadata": {},
   "outputs": [
    {
     "name": "stdout",
     "output_type": "stream",
     "text": [
      "The real transition number is \n",
      "[0, 591.0, 0, 0.0, 31.0, 0, 0, 0]\n",
      "The Non Time Alignment model transition number is \n",
      "[15399.69708534   731.66478038     0.             0.\n",
      "    18.63813428     0.             0.             0.        ]\n",
      "The Time Alignment model transition number is \n",
      "[1.58551201e+04 2.86643605e+02 0.00000000e+00 0.00000000e+00\n",
      " 8.23634080e+00 0.00000000e+00 0.00000000e+00 0.00000000e+00]\n"
     ]
    }
   ],
   "source": [
    "# 实验3: 非时齐离散马尔科夫链的构造, 尝试用一些简单的方法构造非时齐马尔科夫链\n",
    "\n",
    "# 上面的实验明显表示用时齐马尔科夫链来模拟交通流是不合适的, 因为交通流是非时齐的\n",
    "# 结合我们日常生活中的经验, 明显交通流是非时齐的, 甚至transition matrix会是相反的, 例如在早上, 人们主要从住宅区到工作区, 而在晚上, 人们主要从工作区到住宅区\n",
    "# 而且交通流有明显的昼夜因素的影响, \n",
    "# 以及交通流会明显地受到天气和节假日的影响\n",
    "# 因此我们尝试缩短时间范围, 在小范围内预测交通, 甚至我们在小范围内, 对非时齐的马尔科夫链进行建模\n",
    "\n",
    "\n",
    "# 6 - 9这个时间段.\n",
    "# 我们使用线性建模转移概率矩阵的方式来构造非时齐的马尔科夫链\n",
    "\n",
    "begin_hour = 6\n",
    "end_hour = 9\n",
    "# 我们结合6-7 的转移矩阵和 7-8 的转移矩阵来构造 8-9 的转移矩阵\n",
    "transition_matrix_6_7 = get_k_step_transition_matrix(begin_hour = 6, end_hour = 7)\n",
    "transition_matrix_7_8 = get_k_step_transition_matrix(begin_hour = 7, end_hour = 8)\n",
    "model_transition_matrix_8_9 = 2 * transition_matrix_7_8 - transition_matrix_6_7\n",
    "real_transition_matrix_8_9 = get_k_step_transition_matrix(begin_hour = 8, end_hour = 9)\n",
    "\n",
    "# print(transition_matrix_6_7)\n",
    "# print(transition_matrix_7_8)\n",
    "# print(model_transition_matrix_8_9)\n",
    "# print(real_transition_matrix_8_9)\n",
    "\n",
    "# TODO(BobHuangC) 预测具体的交通流量\n",
    "print('The real transition number is ')\n",
    "print(Region_1.getTransition2Region(begin_hour=8, end_hour=9))\n",
    "\n",
    "print('The Non Time Alignment model transition number is ')\n",
    "print(Region_1.getTrafficAmountByHour(hour=8) * model_transition_matrix_8_9[0])\n",
    "\n",
    "print('The Time Alignment model transition number is ')\n",
    "print(Region_1.getTrafficAmountByHour(hour=8) * (transition_matrix_6_7+transition_matrix_7_8)[0]/2)"
   ]
  },
  {
   "cell_type": "code",
   "execution_count": 23,
   "metadata": {},
   "outputs": [
    {
     "name": "stdout",
     "output_type": "stream",
     "text": [
      "[[-0.04611367  0.04363961  0.          0.          0.00247406  0.\n",
      "   0.          0.        ]\n",
      " [ 0.02157565 -0.30235992  0.01047335  0.12671935  0.          0.14359157\n",
      "   0.          0.        ]\n",
      " [ 0.          0.01059759 -0.07477186  0.03706702  0.          0.\n",
      "   0.02710725  0.        ]\n",
      " [ 0.          0.06897061  0.01811268 -0.16240947  0.          0.\n",
      "   0.          0.07532618]\n",
      " [ 0.00190339  0.          0.          0.         -0.00190339  0.\n",
      "   0.          0.        ]\n",
      " [ 0.          0.05105948  0.          0.          0.         -0.05105948\n",
      "   0.          0.        ]\n",
      " [ 0.          0.          0.02745934  0.          0.          0.\n",
      "  -0.02745934  0.        ]\n",
      " [ 0.          0.          0.          0.0600524   0.          0.\n",
      "   0.         -0.0600524 ]]\n",
      "[[-0.04219641  0.03886331  0.          0.          0.0033331   0.\n",
      "   0.          0.        ]\n",
      " [ 0.02057754 -0.3067899   0.00933851  0.12926249  0.          0.14761136\n",
      "   0.          0.        ]\n",
      " [ 0.          0.0091257  -0.07348396  0.03667452  0.          0.\n",
      "   0.02768374  0.        ]\n",
      " [ 0.          0.07093909  0.0190734  -0.166118    0.          0.\n",
      "   0.          0.07610551]\n",
      " [ 0.002691    0.          0.          0.         -0.002691    0.\n",
      "   0.          0.        ]\n",
      " [ 0.          0.05174501  0.          0.          0.         -0.05174501\n",
      "   0.          0.        ]\n",
      " [ 0.          0.          0.02674897  0.          0.          0.\n",
      "  -0.02674897  0.        ]\n",
      " [ 0.          0.          0.          0.06196445  0.          0.\n",
      "   0.         -0.06196445]]\n",
      "[[-0.04208187  0.0384166   0.          0.          0.00366527  0.\n",
      "   0.          0.        ]\n",
      " [ 0.02122927 -0.31822035  0.00904227  0.13275361  0.          0.1551952\n",
      "   0.          0.        ]\n",
      " [ 0.          0.00948549 -0.07494358  0.03633108  0.          0.\n",
      "   0.02912701  0.        ]\n",
      " [ 0.          0.07299715  0.02013714 -0.17240638  0.          0.\n",
      "   0.          0.07927209]\n",
      " [ 0.00282226  0.          0.          0.         -0.00282226  0.\n",
      "   0.          0.        ]\n",
      " [ 0.          0.05292221  0.          0.          0.         -0.05292221\n",
      "   0.          0.        ]\n",
      " [ 0.          0.          0.02772062  0.          0.          0.\n",
      "  -0.02772062  0.        ]\n",
      " [ 0.          0.          0.          0.06357637  0.          0.\n",
      "   0.         -0.06357637]]\n",
      "[[-0.04467047  0.04082194  0.          0.          0.00384853  0.\n",
      "   0.          0.        ]\n",
      " [ 0.02290875 -0.34334409  0.00985124  0.14098007  0.          0.16960404\n",
      "   0.          0.        ]\n",
      " [ 0.          0.01027868 -0.08159773  0.03790722  0.          0.\n",
      "   0.03341183  0.        ]\n",
      " [ 0.          0.07858122  0.0222747  -0.18607487  0.          0.\n",
      "   0.          0.08521895]\n",
      " [ 0.00310121  0.          0.          0.         -0.00310121  0.\n",
      "   0.          0.        ]\n",
      " [ 0.          0.05637345  0.          0.          0.         -0.05637345\n",
      "   0.          0.        ]\n",
      " [ 0.          0.          0.02838404  0.          0.          0.\n",
      "  -0.02838404  0.        ]\n",
      " [ 0.          0.          0.          0.06748055  0.          0.\n",
      "   0.         -0.06748055]]\n"
     ]
    }
   ],
   "source": [
    "# 实验4: 时齐连续马尔科夫链的构造与Q矩阵的计算与极限分布与平稳分布的计算, \n",
    "\n",
    "# 转移速率矩阵Q的计算\n",
    "\n",
    "transition_matrix_P1 = get_k_step_transition_matrix(begin_hour=12, end_hour=13)\n",
    "transition_matrix_P2 = get_k_step_transition_matrix(begin_hour=12, end_hour=14)\n",
    "transition_matrix_P3 = get_k_step_transition_matrix(begin_hour=12, end_hour=15)\n",
    "transition_matrix_P4 = get_k_step_transition_matrix(begin_hour=12, end_hour=16)\n",
    "\n",
    "Q1 = transition_matrix_P1 - np.eye(8)\n",
    "Q2 = (transition_matrix_P2 - np.eye(8)) / 2\n",
    "Q3 = (transition_matrix_P3 - np.eye(8)) / 3\n",
    "Q4 = (transition_matrix_P4 - np.eye(8)) / 4\n",
    "\n",
    "print(Q1)\n",
    "print(Q2)\n",
    "print(Q3)\n",
    "print(Q4)\n",
    "\n",
    "Q = Q1\n",
    "\n",
    "\n"
   ]
  },
  {
   "cell_type": "code",
   "execution_count": 25,
   "metadata": {},
   "outputs": [
    {
     "name": "stdout",
     "output_type": "stream",
     "text": [
      "[0.04516782 0.0913579  0.08421273 0.16878471 0.05870995 0.2569204\n",
      " 0.08313295 0.21171353]\n"
     ]
    }
   ],
   "source": [
    "# 实验5: 时齐连续马尔科夫链根据Q矩阵计算平稳分布\n",
    "\n",
    "# 根据Q计算平稳分布\n",
    "def compute_stationary_distribution_by_Q(Q):\n",
    "\tQ = Q.T\n",
    "\tQ[-1] = np.ones(8)\n",
    "\tb = np.zeros(8)\n",
    "\tb[-1] = 1\n",
    "\treturn np.linalg.solve(Q, b)\n",
    "\n",
    "stationary_distribution = compute_stationary_distribution_by_Q(Q)\n",
    "print(stationary_distribution)"
   ]
  },
  {
   "cell_type": "code",
   "execution_count": 26,
   "metadata": {},
   "outputs": [
    {
     "name": "stdout",
     "output_type": "stream",
     "text": [
      "[[-4.64583848e-02  4.53043208e-02  0.00000000e+00  0.00000000e+00\n",
      "   1.15406404e-03  0.00000000e+00  0.00000000e+00  0.00000000e+00]\n",
      " [ 2.93299370e-02 -4.85280348e-01  2.28751757e-02  2.06312389e-01\n",
      "   0.00000000e+00  2.26762847e-01  0.00000000e+00  0.00000000e+00]\n",
      " [ 0.00000000e+00  1.15191922e-02 -1.18135002e-01  8.69322324e-02\n",
      "   0.00000000e+00  0.00000000e+00  1.96835775e-02  0.00000000e+00]\n",
      " [ 0.00000000e+00  1.13353421e-01  2.28284828e-02 -2.61863418e-01\n",
      "   0.00000000e+00  0.00000000e+00  0.00000000e+00  1.25681514e-01]\n",
      " [ 4.61024598e-04  0.00000000e+00  0.00000000e+00  0.00000000e+00\n",
      "  -4.61024598e-04  0.00000000e+00  0.00000000e+00  0.00000000e+00]\n",
      " [ 0.00000000e+00  9.21303831e-02  0.00000000e+00  0.00000000e+00\n",
      "   0.00000000e+00 -9.21303831e-02  0.00000000e+00  0.00000000e+00]\n",
      " [ 0.00000000e+00  0.00000000e+00  6.73641514e-02  0.00000000e+00\n",
      "   0.00000000e+00  0.00000000e+00 -6.73641514e-02  0.00000000e+00]\n",
      " [ 0.00000000e+00  0.00000000e+00  0.00000000e+00  9.21991222e-02\n",
      "   0.00000000e+00  0.00000000e+00  0.00000000e+00 -9.21991222e-02]]\n",
      "[[-0.03851393  0.03659443  0.          0.          0.0019195   0.\n",
      "   0.          0.        ]\n",
      " [ 0.01832065 -0.39492405  0.01716703  0.17076386  0.          0.18867251\n",
      "   0.          0.        ]\n",
      " [ 0.          0.00789917 -0.09579633  0.06656436  0.          0.\n",
      "   0.0213328   0.        ]\n",
      " [ 0.          0.09193914  0.01576681 -0.20818303  0.          0.\n",
      "   0.          0.10047708]\n",
      " [ 0.00072411  0.          0.          0.         -0.00072411  0.\n",
      "   0.          0.        ]\n",
      " [ 0.          0.05807576  0.          0.          0.         -0.05807576\n",
      "   0.          0.        ]\n",
      " [ 0.          0.          0.04133932  0.          0.          0.\n",
      "  -0.04133932  0.        ]\n",
      " [ 0.          0.          0.          0.07859924  0.          0.\n",
      "   0.         -0.07859924]]\n"
     ]
    }
   ],
   "source": [
    "# 实验6: 非时齐连续马尔科夫链的构造, 尝试用一些简单的方法构造非时齐马尔科夫链\n",
    "\n",
    "# 对Q采取线性插值的方式来构造非时齐的Q矩阵\n",
    "\n",
    "\n",
    "transition_matrix_P_6_7 = get_k_step_transition_matrix(begin_hour=6, end_hour=7)\n",
    "transition_matrix_P_6_8 = get_k_step_transition_matrix(begin_hour=6, end_hour=8)\n",
    "transition_matrix_P_6_9 = get_k_step_transition_matrix(begin_hour=6, end_hour=9)\n",
    "transition_matrix_P_7_8 = get_k_step_transition_matrix(begin_hour=7, end_hour=8)\n",
    "transition_matrix_P_7_9 = get_k_step_transition_matrix(begin_hour=7, end_hour=9)\n",
    "transition_matrix_P_7_10 = get_k_step_transition_matrix(begin_hour=7, end_hour=10)\n",
    "\n",
    "Q1 = transition_matrix_P1 - np.eye(8)\n",
    "Q2 = (transition_matrix_P2 - np.eye(8)) / 2\n",
    "Q3 = (transition_matrix_P3 - np.eye(8)) / 3\n",
    "Q4 = (transition_matrix_P4 - np.eye(8)) / 4\n",
    "\n",
    "Q_hour6 = transition_matrix_P_6_7 - np.eye(8)\n",
    "Q_hour7 = transition_matrix_P_7_8 - np.eye(8)\n",
    "model_Q_hour8 = 2 * Q_hour7 - Q_hour6\n",
    "real_Q_hour8 = get_k_step_transition_matrix(begin_hour=8, end_hour=9) - np.eye(8)\n",
    "\n",
    "print(model_Q_hour8)\n",
    "print(real_Q_hour8)"
   ]
  }
 ],
 "metadata": {
  "kernelspec": {
   "display_name": "AIcoding",
   "language": "python",
   "name": "python3"
  },
  "language_info": {
   "codemirror_mode": {
    "name": "ipython",
    "version": 3
   },
   "file_extension": ".py",
   "mimetype": "text/x-python",
   "name": "python",
   "nbconvert_exporter": "python",
   "pygments_lexer": "ipython3",
   "version": "3.11.5"
  }
 },
 "nbformat": 4,
 "nbformat_minor": 2
}
