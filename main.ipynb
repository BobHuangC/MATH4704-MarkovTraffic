{
 "cells": [
  {
   "cell_type": "code",
   "execution_count": 17,
   "metadata": {},
   "outputs": [],
   "source": [
    "# 我们研究一天之内的数据, 所以在程序的开始加载当日的所有数据.\n",
    "Date = '2023-01-04'"
   ]
  },
  {
   "cell_type": "code",
   "execution_count": 18,
   "metadata": {},
   "outputs": [],
   "source": [
    "# 在本次研究中, 我们关注的Contious Count Station 为:\n",
    "# [601, 626, 632, 635, 643, 645, 647, 648, 656, 658, 662, 671, 672, 675, 676] \n",
    "\n",
    "Utah_Vehicles_Person = 0.850 # vehicles per person in Utah\n",
    "Region_1_population = 19902# Highland population\n",
    "Region_2_population = 0.5 * 84373 # half of population of Lehi 2022\n",
    "Region_3_population = 0.5 * 84373 # the other half of population of Lehi 2022\n",
    "Region_4_population = 37268 + 37630 # the population of American Fork and Pleasant Grove 2022\n",
    "Region_5_population = 17865 # Heber City which is far from Highland\n",
    "Region_6_population = 19080+59179+50731 # Bluffdale + Herriman + Draper population\n",
    "Region_7_population = 54149  # Eagle Mountain population\n",
    "region_8_population = 11704 + 95910 + 14535 # Lindon + Orem + Vineyard population\n",
    "\n",
    "## suppose the total number of cars in the city\n",
    "region_1_initial_traffic_amount = int(Region_1_population * Utah_Vehicles_Person)\n",
    "region_2_initial_traffic_amount = int(Region_2_population * Utah_Vehicles_Person)\n",
    "region_3_initial_traffic_amount = int(Region_3_population * Utah_Vehicles_Person)\n",
    "region_4_initial_traffic_amount = int(Region_4_population * Utah_Vehicles_Person)\n",
    "region_5_initial_traffic_amount = int(Region_5_population * Utah_Vehicles_Person)\n",
    "region_6_initial_traffic_amount = int(Region_6_population * Utah_Vehicles_Person)\n",
    "region_7_initial_traffic_amount = int(Region_7_population * Utah_Vehicles_Person)\n",
    "region_8_initial_traffic_amount = int(region_8_population * Utah_Vehicles_Person)"
   ]
  },
  {
   "cell_type": "code",
   "execution_count": 19,
   "metadata": {},
   "outputs": [
    {
     "name": "stdout",
     "output_type": "stream",
     "text": [
      "CCS idx:  645\n",
      "Warning: the data for this date is not available\n",
      "CCS idx:  656\n",
      "Warning: the data for this date is not available\n"
     ]
    }
   ],
   "source": [
    "import model\n",
    "import numpy as np\n",
    "\n",
    "_initial_traffic_amouts_list = [region_1_initial_traffic_amount, region_2_initial_traffic_amount, \n",
    "                                region_3_initial_traffic_amount, region_4_initial_traffic_amount, \n",
    "                                region_5_initial_traffic_amount, region_6_initial_traffic_amount, \n",
    "                                region_7_initial_traffic_amount, region_8_initial_traffic_amount]\n",
    "\n",
    "# initialization of CCSs\n",
    "CCS_601, CCS_626, CCS_632, CCS_635, CCS_643,\\\n",
    "CCS_645, CCS_647, CCS_648, CCS_656, CCS_658,\\\n",
    "CCS_662, CCS_671, CCS_672, CCS_675, CCS_676,\\\n",
    "Region_1, Region_2, Region_3, Region_4,\\\n",
    "Region_5, Region_6, Region_7, Region_8 = \\\n",
    "model.initialize_CSSs_and_Regions(date=Date, \n",
    "                                  initials_traffic_amount_list=_initial_traffic_amouts_list)"
   ]
  },
  {
   "cell_type": "code",
   "execution_count": 20,
   "metadata": {},
   "outputs": [],
   "source": [
    "Region_1.updateTrafficNumber()\n",
    "Region_2.updateTrafficNumber()\n",
    "Region_3.updateTrafficNumber()\n",
    "Region_4.updateTrafficNumber()\n",
    "Region_5.updateTrafficNumber()\n",
    "Region_6.updateTrafficNumber()\n",
    "Region_7.updateTrafficNumber()\n",
    "Region_8.updateTrafficNumber()"
   ]
  },
  {
   "cell_type": "code",
   "execution_count": 21,
   "metadata": {},
   "outputs": [],
   "source": [
    "# print(Region_1.traffic_amount)\n",
    "# print(Region_2.traffic_amount)\n",
    "# print(Region_3.traffic_amount)\n",
    "# print(Region_4.traffic_amount)\n",
    "# print(Region_5.traffic_amount)\n",
    "# print(Region_6.traffic_amount)\n",
    "# print(Region_7.traffic_amount)\n",
    "# print(Region_8.traffic_amount)"
   ]
  },
  {
   "cell_type": "code",
   "execution_count": 22,
   "metadata": {},
   "outputs": [
    {
     "name": "stdout",
     "output_type": "stream",
     "text": [
      "Testing\n",
      "The number of cars in each region at the end of the day:\n",
      "16108.0 in Region 1\n",
      "44623.0 in Region 2\n",
      "33656.0 in Region 3\n",
      "61377.0 in Region 4\n",
      "15184.0 in Region 5\n",
      "110833.0 in Region 6\n",
      "47354.0 in Region 7\n",
      "97838.0 in Region 8\n"
     ]
    }
   ],
   "source": [
    "print(\"Testing\")\n",
    "print(\"The number of cars in each region at the end of the day:\")\n",
    "print(Region_1.traffic_amount[-1], \"in Region 1\")\n",
    "print(Region_2.traffic_amount[-1], \"in Region 2\")\n",
    "print(Region_3.traffic_amount[-1], \"in Region 3\")\n",
    "print(Region_4.traffic_amount[-1], \"in Region 4\")\n",
    "print(Region_5.traffic_amount[-1], \"in Region 5\")\n",
    "print(Region_6.traffic_amount[-1], \"in Region 6\")\n",
    "print(Region_7.traffic_amount[-1], \"in Region 7\")\n",
    "print(Region_8.traffic_amount[-1], \"in Region 8\")"
   ]
  },
  {
   "cell_type": "code",
   "execution_count": 23,
   "metadata": {},
   "outputs": [],
   "source": [
    "# 实验0 马尔科夫链的构造与 k 步转移概率矩阵的计算\n"
   ]
  },
  {
   "cell_type": "code",
   "execution_count": 24,
   "metadata": {},
   "outputs": [
    {
     "ename": "SyntaxError",
     "evalue": "invalid syntax (1047855970.py, line 10)",
     "output_type": "error",
     "traceback": [
      "\u001b[0;36m  Cell \u001b[0;32mIn[24], line 10\u001b[0;36m\u001b[0m\n\u001b[0;31m    P1_hour0 =\u001b[0m\n\u001b[0m               ^\u001b[0m\n\u001b[0;31mSyntaxError\u001b[0m\u001b[0;31m:\u001b[0m invalid syntax\n"
     ]
    }
   ],
   "source": [
    "# 实验1: 查普曼-柯尔莫哥洛夫方程验证\n",
    "# use the discrete time Markov chain model to analize the traffic flow\n",
    "\n",
    "exp1_hour1 = 0\n",
    "exp1_hour2 = 1\n",
    "exp1_hour3 = 2\n",
    "\n",
    "\n",
    "# 计算从hour0开始一小时的转移矩阵\n",
    "P1_hour0 = \n",
    "P\n",
    "\n",
    "\n",
    "print(Region_1.getTrafficAmountByHour(hour=exp1_hour1))\n",
    "print(Region_2.getTrafficAmountByHour(hour=exp1_hour1))\n",
    "print(Region_3.getTrafficAmountByHour(hour=exp1_hour1))\n",
    "\n",
    "print(Region_1.getTrafficAmountByHour(hour=exp1_hour2))\n",
    "print(Region_2.getTrafficAmountByHour(hour=exp1_hour2))\n",
    "print(Region_3.getTrafficAmountByHour(hour=exp1_hour2))\n",
    "\n",
    "print(Region_1.getTrafficAmountByHour(hour=exp1_hour3))\n",
    "print(Region_2.getTrafficAmountByHour(hour=exp1_hour3))\n",
    "print(Region_3.getTrafficAmountByHour(hour=exp1_hour3))\n",
    "\n"
   ]
  },
  {
   "cell_type": "code",
   "execution_count": null,
   "metadata": {},
   "outputs": [],
   "source": [
    "# 实验2: 时齐离散马尔科夫链的构造与极限分布与平稳分布的计算"
   ]
  },
  {
   "cell_type": "code",
   "execution_count": null,
   "metadata": {},
   "outputs": [],
   "source": [
    "# 实验3: 非时齐离散马尔科夫链的构造, 尝试用一些简单的方法构造非时齐马尔科夫链"
   ]
  },
  {
   "cell_type": "code",
   "execution_count": null,
   "metadata": {},
   "outputs": [],
   "source": [
    "# 实验4: 时齐连续马尔科夫链的构造与Q矩阵的计算与极限分布与平稳分布的计算, "
   ]
  },
  {
   "cell_type": "code",
   "execution_count": null,
   "metadata": {},
   "outputs": [],
   "source": [
    "# 实验5: 非时齐连续马尔科夫链的构造, 尝试用一些简单的方法构造非时齐马尔科夫链"
   ]
  }
 ],
 "metadata": {
  "kernelspec": {
   "display_name": "AIcoding",
   "language": "python",
   "name": "python3"
  },
  "language_info": {
   "codemirror_mode": {
    "name": "ipython",
    "version": 3
   },
   "file_extension": ".py",
   "mimetype": "text/x-python",
   "name": "python",
   "nbconvert_exporter": "python",
   "pygments_lexer": "ipython3",
   "version": "3.11.5"
  }
 },
 "nbformat": 4,
 "nbformat_minor": 2
}
