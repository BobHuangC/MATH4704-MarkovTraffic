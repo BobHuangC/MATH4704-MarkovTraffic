{
 "cells": [
  {
   "cell_type": "code",
   "execution_count": 1,
   "metadata": {},
   "outputs": [],
   "source": [
    "# 在本次研究中, 我们关注的Contious Count Station 为:\n",
    "# [601, 626, 632, 635, 643, 645, 647, 648, 656, 658, 662, 671, 672, 675, 676] \n",
    "# 我们研究一天之内的数据, 所以在程序的开始加载当日的所有数据.\n",
    "Date = '2023-01-04'\n",
    "\n",
    "## suppose the total number of cars in the city\n",
    "region_1_initial_traffic_amount = 1000\n",
    "region_2_initial_traffic_amount = 1000\n",
    "region_3_initial_traffic_amount = 1000\n",
    "region_4_initial_traffic_amount = 1000\n",
    "region_5_initial_traffic_amount = 1000\n",
    "region_6_initial_traffic_amount = 1000\n",
    "region_7_initial_traffic_amount = 1000\n",
    "region_8_initial_traffic_amount = 1000"
   ]
  },
  {
   "cell_type": "code",
   "execution_count": 2,
   "metadata": {},
   "outputs": [
    {
     "name": "stdout",
     "output_type": "stream",
     "text": [
      "CCS idx:  645\n",
      "Warning: the data for this date is not available\n",
      "CCS idx:  656\n",
      "Warning: the data for this date is not available\n"
     ]
    }
   ],
   "source": [
    "import model\n",
    "\n",
    "# initialization of CCSs\n",
    "CCS_601, CCS_626, CCS_632, CCS_635, CCS_643,\\\n",
    "            CCS_645, CCS_647, CCS_648, CCS_656, CCS_658,\\\n",
    "            CCS_662, CCS_671, CCS_672, CCS_675, CCS_676 = model.initialize_CSSs(date=Date)\n",
    "\n",
    "# initialization of Regions\n",
    "Region_1  = model.Region(idx=1, name='Region_1', \n",
    "                         relatedCSSs=[CCS_601, CCS_643, CCS_656, CCS_675, CCS_676], \n",
    "                         initial_traffic_amount=region_1_initial_traffic_amount)\n",
    "Region_2  = model.Region(idx=2, name='Region_2', \n",
    "                         relatedCSSs=[CCS_635, CCS_643, CCS_648, CCS_658, CCS_662, CCS_672, CCS_675, CCS_676],\n",
    "                         initial_traffic_amount=region_2_initial_traffic_amount)\n",
    "Region_3  = model.Region(idx=3, name='Region_3', \n",
    "                         relatedCSSs=[CCS_626, CCS_632, CCS_648, CCS_662],\n",
    "                         initial_traffic_amount=region_3_initial_traffic_amount)\n",
    "Region_4 = model.Region(idx=4, name='Region_4', \n",
    "                        relatedCSSs=[CCS_632, CCS_645,  CCS_647, CCS_656, CCS_658, CCS_671, CCS_672],\n",
    "                        initial_traffic_amount=region_4_initial_traffic_amount)\n",
    "Region_5 = model.Region(idx=5, name='Region_5', \n",
    "                        relatedCSSs=[CCS_601],\n",
    "                        initial_traffic_amount=region_5_initial_traffic_amount)\n",
    "Region_6 = model.Region(idx=6, name='Region_6', \n",
    "                        relatedCSSs=[CCS_635],\n",
    "                        initial_traffic_amount=region_6_initial_traffic_amount)\n",
    "Region_7 = model.Region(idx=7, name='Region_7', \n",
    "                        relatedCSSs=[CCS_626, ],\n",
    "                        initial_traffic_amount=region_7_initial_traffic_amount)\n",
    "Region_8 = model.Region(idx=8, name='Region_8', \n",
    "                        relatedCSSs=[CCS_645,  CCS_647, CCS_671],\n",
    "                        initial_traffic_amount=region_8_initial_traffic_amount)\n",
    "\n"
   ]
  },
  {
   "cell_type": "code",
   "execution_count": 3,
   "metadata": {},
   "outputs": [],
   "source": [
    "Region_1.updateTrafficNumber()\n",
    "Region_2.updateTrafficNumber()\n",
    "Region_3.updateTrafficNumber()\n",
    "Region_4.updateTrafficNumber()\n",
    "Region_5.updateTrafficNumber()\n",
    "Region_6.updateTrafficNumber()\n",
    "Region_7.updateTrafficNumber()\n",
    "Region_8.updateTrafficNumber()"
   ]
  },
  {
   "cell_type": "code",
   "execution_count": 4,
   "metadata": {},
   "outputs": [
    {
     "name": "stdout",
     "output_type": "stream",
     "text": [
      "-4.0\n",
      "4.0\n"
     ]
    }
   ],
   "source": [
    "print(CCS_601.get_traffic_flow(hour=1, region_idx=1))\n",
    "print(CCS_601.get_traffic_flow(hour=1, region_idx=5))"
   ]
  },
  {
   "cell_type": "code",
   "execution_count": null,
   "metadata": {},
   "outputs": [],
   "source": []
  }
 ],
 "metadata": {
  "kernelspec": {
   "display_name": "AIcoding",
   "language": "python",
   "name": "python3"
  },
  "language_info": {
   "codemirror_mode": {
    "name": "ipython",
    "version": 3
   },
   "file_extension": ".py",
   "mimetype": "text/x-python",
   "name": "python",
   "nbconvert_exporter": "python",
   "pygments_lexer": "ipython3",
   "version": "3.11.5"
  }
 },
 "nbformat": 4,
 "nbformat_minor": 2
}
